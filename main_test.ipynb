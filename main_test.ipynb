{
 "cells": [
  {
   "cell_type": "code",
   "execution_count": 1,
   "metadata": {},
   "outputs": [
    {
     "name": "stderr",
     "output_type": "stream",
     "text": [
      "2021-10-23 21:59:46.623017: W tensorflow/stream_executor/platform/default/dso_loader.cc:64] Could not load dynamic library 'libcudart.so.11.0'; dlerror: libcudart.so.11.0: cannot open shared object file: No such file or directory\n",
      "2021-10-23 21:59:46.623046: I tensorflow/stream_executor/cuda/cudart_stub.cc:29] Ignore above cudart dlerror if you do not have a GPU set up on your machine.\n"
     ]
    }
   ],
   "source": [
    "from model import RungeKuttaIntegratorCell, create_model, RNN, Sequential, RMSprop, tf\n",
    "import numpy as np\n",
    "import pandas as pd\n",
    "import matplotlib.pyplot as plt"
   ]
  },
  {
   "cell_type": "code",
   "execution_count": 2,
   "metadata": {},
   "outputs": [],
   "source": [
    "import os\n",
    "import importlib"
   ]
  },
  {
   "cell_type": "code",
   "execution_count": 3,
   "metadata": {},
   "outputs": [],
   "source": [
    "# os.getcwd()"
   ]
  },
  {
   "cell_type": "code",
   "execution_count": 4,
   "metadata": {},
   "outputs": [],
   "source": [
    "# masses, spring coefficients, and damping coefficients\n",
    "alpha = np.array([0.015], dtype='float32')  # initial guess, true value is 0.2\n",
    "T = 12.\n",
    "omega = np.array([(2*np.pi / T)], dtype='float32')"
   ]
  },
  {
   "cell_type": "code",
   "execution_count": 5,
   "metadata": {},
   "outputs": [],
   "source": [
    "df_all = pd.read_csv('./data.csv', sep=\";\", decimal=\",\", header=0)"
   ]
  },
  {
   "cell_type": "code",
   "execution_count": 6,
   "metadata": {},
   "outputs": [],
   "source": [
    "ub = df_all.max().loc[\"tetha\"]\n",
    "lb = df_all.min().loc[\"tetha\"]"
   ]
  },
  {
   "cell_type": "code",
   "execution_count": 7,
   "metadata": {},
   "outputs": [
    {
     "data": {
      "text/html": [
       "<div>\n",
       "<style scoped>\n",
       "    .dataframe tbody tr th:only-of-type {\n",
       "        vertical-align: middle;\n",
       "    }\n",
       "\n",
       "    .dataframe tbody tr th {\n",
       "        vertical-align: top;\n",
       "    }\n",
       "\n",
       "    .dataframe thead th {\n",
       "        text-align: right;\n",
       "    }\n",
       "</style>\n",
       "<table border=\"1\" class=\"dataframe\">\n",
       "  <thead>\n",
       "    <tr style=\"text-align: right;\">\n",
       "      <th></th>\n",
       "      <th>time</th>\n",
       "      <th>case</th>\n",
       "      <th>theta0</th>\n",
       "      <th>theta_dot0</th>\n",
       "      <th>u</th>\n",
       "      <th>tetha</th>\n",
       "      <th>theta_dot</th>\n",
       "    </tr>\n",
       "  </thead>\n",
       "  <tbody>\n",
       "    <tr>\n",
       "      <th>0</th>\n",
       "      <td>0.0</td>\n",
       "      <td>0</td>\n",
       "      <td>0.192342</td>\n",
       "      <td>1.057883</td>\n",
       "      <td>0</td>\n",
       "      <td>0.138456</td>\n",
       "      <td>1.003997</td>\n",
       "    </tr>\n",
       "    <tr>\n",
       "      <th>1</th>\n",
       "      <td>0.5</td>\n",
       "      <td>0</td>\n",
       "      <td>0.192342</td>\n",
       "      <td>1.057883</td>\n",
       "      <td>0</td>\n",
       "      <td>0.631661</td>\n",
       "      <td>0.848859</td>\n",
       "    </tr>\n",
       "    <tr>\n",
       "      <th>2</th>\n",
       "      <td>1.0</td>\n",
       "      <td>0</td>\n",
       "      <td>0.192342</td>\n",
       "      <td>1.057883</td>\n",
       "      <td>0</td>\n",
       "      <td>1.015907</td>\n",
       "      <td>0.641543</td>\n",
       "    </tr>\n",
       "    <tr>\n",
       "      <th>3</th>\n",
       "      <td>1.5</td>\n",
       "      <td>0</td>\n",
       "      <td>0.192342</td>\n",
       "      <td>1.057883</td>\n",
       "      <td>0</td>\n",
       "      <td>1.375889</td>\n",
       "      <td>0.502063</td>\n",
       "    </tr>\n",
       "    <tr>\n",
       "      <th>4</th>\n",
       "      <td>2.0</td>\n",
       "      <td>0</td>\n",
       "      <td>0.192342</td>\n",
       "      <td>1.057883</td>\n",
       "      <td>0</td>\n",
       "      <td>1.658025</td>\n",
       "      <td>0.388829</td>\n",
       "    </tr>\n",
       "    <tr>\n",
       "      <th>...</th>\n",
       "      <td>...</td>\n",
       "      <td>...</td>\n",
       "      <td>...</td>\n",
       "      <td>...</td>\n",
       "      <td>...</td>\n",
       "      <td>...</td>\n",
       "      <td>...</td>\n",
       "    </tr>\n",
       "    <tr>\n",
       "      <th>76</th>\n",
       "      <td>38.0</td>\n",
       "      <td>0</td>\n",
       "      <td>0.192342</td>\n",
       "      <td>1.057883</td>\n",
       "      <td>0</td>\n",
       "      <td>0.021129</td>\n",
       "      <td>0.060014</td>\n",
       "    </tr>\n",
       "    <tr>\n",
       "      <th>77</th>\n",
       "      <td>38.5</td>\n",
       "      <td>0</td>\n",
       "      <td>0.192342</td>\n",
       "      <td>1.057883</td>\n",
       "      <td>0</td>\n",
       "      <td>-0.018472</td>\n",
       "      <td>0.005161</td>\n",
       "    </tr>\n",
       "    <tr>\n",
       "      <th>78</th>\n",
       "      <td>39.0</td>\n",
       "      <td>0</td>\n",
       "      <td>0.192342</td>\n",
       "      <td>1.057883</td>\n",
       "      <td>0</td>\n",
       "      <td>0.017835</td>\n",
       "      <td>0.026135</td>\n",
       "    </tr>\n",
       "    <tr>\n",
       "      <th>79</th>\n",
       "      <td>39.5</td>\n",
       "      <td>0</td>\n",
       "      <td>0.192342</td>\n",
       "      <td>1.057883</td>\n",
       "      <td>0</td>\n",
       "      <td>-0.008569</td>\n",
       "      <td>-0.014694</td>\n",
       "    </tr>\n",
       "    <tr>\n",
       "      <th>80</th>\n",
       "      <td>40.0</td>\n",
       "      <td>0</td>\n",
       "      <td>0.192342</td>\n",
       "      <td>1.057883</td>\n",
       "      <td>0</td>\n",
       "      <td>0.157184</td>\n",
       "      <td>0.138424</td>\n",
       "    </tr>\n",
       "  </tbody>\n",
       "</table>\n",
       "<p>81 rows × 7 columns</p>\n",
       "</div>"
      ],
      "text/plain": [
       "    time  case    theta0  theta_dot0  u     tetha  theta_dot\n",
       "0    0.0     0  0.192342    1.057883  0  0.138456   1.003997\n",
       "1    0.5     0  0.192342    1.057883  0  0.631661   0.848859\n",
       "2    1.0     0  0.192342    1.057883  0  1.015907   0.641543\n",
       "3    1.5     0  0.192342    1.057883  0  1.375889   0.502063\n",
       "4    2.0     0  0.192342    1.057883  0  1.658025   0.388829\n",
       "..   ...   ...       ...         ... ..       ...        ...\n",
       "76  38.0     0  0.192342    1.057883  0  0.021129   0.060014\n",
       "77  38.5     0  0.192342    1.057883  0 -0.018472   0.005161\n",
       "78  39.0     0  0.192342    1.057883  0  0.017835   0.026135\n",
       "79  39.5     0  0.192342    1.057883  0 -0.008569  -0.014694\n",
       "80  40.0     0  0.192342    1.057883  0  0.157184   0.138424\n",
       "\n",
       "[81 rows x 7 columns]"
      ]
     },
     "execution_count": 7,
     "metadata": {},
     "output_type": "execute_result"
    }
   ],
   "source": [
    "df = df_all.loc[ df_all.loc[:, \"case\"] == 0, :]\n",
    "df"
   ]
  },
  {
   "cell_type": "code",
   "execution_count": 8,
   "metadata": {},
   "outputs": [],
   "source": [
    "# data\n",
    "t  = df.loc[:, \"time\"].values\n",
    "dt = (t[1] - t[0])\n",
    "utrain = df.loc[:, [\"u\"]].values[np.newaxis, :, :]\n",
    "tetha_train = df.loc[:, [\"tetha\"]].values[np.newaxis, :, :]"
   ]
  },
  {
   "cell_type": "code",
   "execution_count": 9,
   "metadata": {},
   "outputs": [
    {
     "data": {
      "text/plain": [
       "(1, 81, 1)"
      ]
     },
     "execution_count": 9,
     "metadata": {},
     "output_type": "execute_result"
    }
   ],
   "source": [
    "utrain.shape"
   ]
  },
  {
   "cell_type": "code",
   "execution_count": 10,
   "metadata": {},
   "outputs": [],
   "source": [
    "# fitting physics-informed neural network\n",
    "initial_state = df.loc[:, [\"theta0\", \"theta_dot0\"]].iloc[[0], :].astype(\"float32\").values\n",
    "# create_model(omega, alpha, dt, initial_state, batch_input_shape, return_sequences=True, unroll=False)"
   ]
  },
  {
   "cell_type": "code",
   "execution_count": 15,
   "metadata": {
    "tags": []
   },
   "outputs": [],
   "source": [
    "model = create_model(omega, alpha, dt, initial_state=initial_state, ub=ub, lb=lb, batch_input_shape=utrain.shape)"
   ]
  },
  {
   "cell_type": "code",
   "execution_count": 16,
   "metadata": {
    "tags": []
   },
   "outputs": [],
   "source": [
    "yPred_before = model.predict_on_batch(utrain)[0, :, :]"
   ]
  },
  {
   "cell_type": "code",
   "execution_count": 17,
   "metadata": {
    "tags": []
   },
   "outputs": [
    {
     "name": "stdout",
     "output_type": "stream",
     "text": [
      "Epoch 1/100\n",
      "1/1 [==============================] - 2s 2s/step - loss: 3.1483 - mae: 1.5614\n",
      "Epoch 2/100\n",
      "1/1 [==============================] - 0s 33ms/step - loss: 3.0206 - mae: 1.5305\n",
      "Epoch 3/100\n",
      "1/1 [==============================] - 0s 36ms/step - loss: 2.9140 - mae: 1.5063\n",
      "Epoch 4/100\n",
      "1/1 [==============================] - 0s 36ms/step - loss: 2.8191 - mae: 1.4862\n",
      "Epoch 5/100\n",
      "1/1 [==============================] - 0s 42ms/step - loss: 2.7297 - mae: 1.4655\n",
      "Epoch 6/100\n",
      "1/1 [==============================] - 0s 35ms/step - loss: 2.6420 - mae: 1.4495\n",
      "Epoch 7/100\n",
      "1/1 [==============================] - 0s 46ms/step - loss: 2.5541 - mae: 1.4238\n",
      "Epoch 8/100\n",
      "1/1 [==============================] - 0s 52ms/step - loss: 2.4653 - mae: 1.4012\n",
      "Epoch 9/100\n",
      "1/1 [==============================] - 0s 35ms/step - loss: 2.3758 - mae: 1.3795\n",
      "Epoch 10/100\n",
      "1/1 [==============================] - 0s 44ms/step - loss: 2.2861 - mae: 1.3527\n",
      "Epoch 11/100\n",
      "1/1 [==============================] - 0s 55ms/step - loss: 2.1972 - mae: 1.3288\n",
      "Epoch 12/100\n",
      "1/1 [==============================] - 0s 42ms/step - loss: 2.1099 - mae: 1.3004\n",
      "Epoch 13/100\n",
      "1/1 [==============================] - 0s 39ms/step - loss: 2.0251 - mae: 1.2703\n",
      "Epoch 14/100\n",
      "1/1 [==============================] - 0s 38ms/step - loss: 1.9434 - mae: 1.2399\n",
      "Epoch 15/100\n",
      "1/1 [==============================] - 0s 43ms/step - loss: 1.8652 - mae: 1.2129\n",
      "Epoch 16/100\n",
      "1/1 [==============================] - 0s 43ms/step - loss: 1.7907 - mae: 1.1870\n",
      "Epoch 17/100\n",
      "1/1 [==============================] - 0s 53ms/step - loss: 1.7200 - mae: 1.1615\n",
      "Epoch 18/100\n",
      "1/1 [==============================] - 0s 44ms/step - loss: 1.6530 - mae: 1.1379\n",
      "Epoch 19/100\n",
      "1/1 [==============================] - 0s 42ms/step - loss: 1.5895 - mae: 1.1176\n",
      "Epoch 20/100\n",
      "1/1 [==============================] - 0s 35ms/step - loss: 1.5292 - mae: 1.0980\n",
      "Epoch 21/100\n",
      "1/1 [==============================] - 0s 39ms/step - loss: 1.4720 - mae: 1.0759\n",
      "Epoch 22/100\n",
      "1/1 [==============================] - 0s 45ms/step - loss: 1.4175 - mae: 1.0547\n",
      "Epoch 23/100\n",
      "1/1 [==============================] - 0s 41ms/step - loss: 1.3655 - mae: 1.0359\n",
      "Epoch 24/100\n",
      "1/1 [==============================] - 0s 45ms/step - loss: 1.3158 - mae: 1.0179\n",
      "Epoch 25/100\n",
      "1/1 [==============================] - 0s 48ms/step - loss: 1.2682 - mae: 1.0017\n",
      "Epoch 26/100\n",
      "1/1 [==============================] - 0s 35ms/step - loss: 1.2225 - mae: 0.9850\n",
      "Epoch 27/100\n",
      "1/1 [==============================] - 0s 43ms/step - loss: 1.1785 - mae: 0.9683\n",
      "Epoch 28/100\n",
      "1/1 [==============================] - 0s 42ms/step - loss: 1.1361 - mae: 0.9520\n",
      "Epoch 29/100\n",
      "1/1 [==============================] - 0s 54ms/step - loss: 1.0953 - mae: 0.9350\n",
      "Epoch 30/100\n",
      "1/1 [==============================] - 0s 55ms/step - loss: 1.0559 - mae: 0.9191\n",
      "Epoch 31/100\n",
      "1/1 [==============================] - 0s 53ms/step - loss: 1.0178 - mae: 0.9022\n",
      "Epoch 32/100\n",
      "1/1 [==============================] - 0s 45ms/step - loss: 0.9810 - mae: 0.8861\n",
      "Epoch 33/100\n",
      "1/1 [==============================] - 0s 36ms/step - loss: 0.9454 - mae: 0.8704\n",
      "Epoch 34/100\n",
      "1/1 [==============================] - 0s 38ms/step - loss: 0.9110 - mae: 0.8552\n",
      "Epoch 35/100\n",
      "1/1 [==============================] - 0s 41ms/step - loss: 0.8777 - mae: 0.8398\n",
      "Epoch 36/100\n",
      "1/1 [==============================] - 0s 52ms/step - loss: 0.8455 - mae: 0.8246\n",
      "Epoch 37/100\n",
      "1/1 [==============================] - 0s 61ms/step - loss: 0.8144 - mae: 0.8100\n",
      "Epoch 38/100\n",
      "1/1 [==============================] - 0s 41ms/step - loss: 0.7843 - mae: 0.7953\n",
      "Epoch 39/100\n",
      "1/1 [==============================] - 0s 46ms/step - loss: 0.7552 - mae: 0.7815\n",
      "Epoch 40/100\n",
      "1/1 [==============================] - 0s 46ms/step - loss: 0.7271 - mae: 0.7676\n",
      "Epoch 41/100\n",
      "1/1 [==============================] - 0s 40ms/step - loss: 0.7000 - mae: 0.7531\n",
      "Epoch 42/100\n",
      "1/1 [==============================] - 0s 39ms/step - loss: 0.6738 - mae: 0.7391\n",
      "Epoch 43/100\n",
      "1/1 [==============================] - 0s 37ms/step - loss: 0.6485 - mae: 0.7248\n",
      "Epoch 44/100\n",
      "1/1 [==============================] - 0s 48ms/step - loss: 0.6241 - mae: 0.7109\n",
      "Epoch 45/100\n",
      "1/1 [==============================] - 0s 49ms/step - loss: 0.6006 - mae: 0.6969\n",
      "Epoch 46/100\n",
      "1/1 [==============================] - 0s 46ms/step - loss: 0.5780 - mae: 0.6831\n",
      "Epoch 47/100\n",
      "1/1 [==============================] - 0s 40ms/step - loss: 0.5561 - mae: 0.6707\n",
      "Epoch 48/100\n",
      "1/1 [==============================] - 0s 41ms/step - loss: 0.5351 - mae: 0.6581\n",
      "Epoch 49/100\n",
      "1/1 [==============================] - 0s 48ms/step - loss: 0.5149 - mae: 0.6457\n",
      "Epoch 50/100\n",
      "1/1 [==============================] - 0s 45ms/step - loss: 0.4954 - mae: 0.6333\n",
      "Epoch 51/100\n",
      "1/1 [==============================] - 0s 41ms/step - loss: 0.4766 - mae: 0.6208\n",
      "Epoch 52/100\n",
      "1/1 [==============================] - 0s 35ms/step - loss: 0.4586 - mae: 0.6081\n",
      "Epoch 53/100\n",
      "1/1 [==============================] - 0s 44ms/step - loss: 0.4412 - mae: 0.5958\n",
      "Epoch 54/100\n",
      "1/1 [==============================] - 0s 43ms/step - loss: 0.4245 - mae: 0.5842\n",
      "Epoch 55/100\n",
      "1/1 [==============================] - 0s 42ms/step - loss: 0.4085 - mae: 0.5725\n",
      "Epoch 56/100\n",
      "1/1 [==============================] - 0s 40ms/step - loss: 0.3930 - mae: 0.5607\n",
      "Epoch 57/100\n",
      "1/1 [==============================] - 0s 46ms/step - loss: 0.3782 - mae: 0.5491\n",
      "Epoch 58/100\n",
      "1/1 [==============================] - 0s 45ms/step - loss: 0.3639 - mae: 0.5383\n",
      "Epoch 59/100\n",
      "1/1 [==============================] - 0s 44ms/step - loss: 0.3502 - mae: 0.5275\n",
      "Epoch 60/100\n",
      "1/1 [==============================] - 0s 44ms/step - loss: 0.3370 - mae: 0.5172\n",
      "Epoch 61/100\n",
      "1/1 [==============================] - 0s 42ms/step - loss: 0.3243 - mae: 0.5071\n",
      "Epoch 62/100\n",
      "1/1 [==============================] - 0s 39ms/step - loss: 0.3121 - mae: 0.4973\n",
      "Epoch 63/100\n",
      "1/1 [==============================] - 0s 45ms/step - loss: 0.3004 - mae: 0.4878\n",
      "Epoch 64/100\n",
      "1/1 [==============================] - 0s 45ms/step - loss: 0.2892 - mae: 0.4784\n",
      "Epoch 65/100\n",
      "1/1 [==============================] - 0s 37ms/step - loss: 0.2783 - mae: 0.4693\n",
      "Epoch 66/100\n",
      "1/1 [==============================] - 0s 41ms/step - loss: 0.2679 - mae: 0.4604\n",
      "Epoch 67/100\n",
      "1/1 [==============================] - 0s 49ms/step - loss: 0.2579 - mae: 0.4514\n",
      "Epoch 68/100\n",
      "1/1 [==============================] - 0s 51ms/step - loss: 0.2483 - mae: 0.4426\n",
      "Epoch 69/100\n",
      "1/1 [==============================] - 0s 41ms/step - loss: 0.2390 - mae: 0.4342\n",
      "Epoch 70/100\n",
      "1/1 [==============================] - 0s 54ms/step - loss: 0.2301 - mae: 0.4258\n",
      "Epoch 71/100\n",
      "1/1 [==============================] - 0s 51ms/step - loss: 0.2216 - mae: 0.4175\n",
      "Epoch 72/100\n",
      "1/1 [==============================] - 0s 53ms/step - loss: 0.2133 - mae: 0.4092\n",
      "Epoch 73/100\n",
      "1/1 [==============================] - 0s 35ms/step - loss: 0.2054 - mae: 0.4012\n",
      "Epoch 74/100\n",
      "1/1 [==============================] - 0s 39ms/step - loss: 0.1978 - mae: 0.3939\n",
      "Epoch 75/100\n",
      "1/1 [==============================] - 0s 34ms/step - loss: 0.1905 - mae: 0.3868\n",
      "Epoch 76/100\n",
      "1/1 [==============================] - 0s 48ms/step - loss: 0.1835 - mae: 0.3798\n",
      "Epoch 77/100\n",
      "1/1 [==============================] - 0s 54ms/step - loss: 0.1767 - mae: 0.3729\n",
      "Epoch 78/100\n",
      "1/1 [==============================] - 0s 53ms/step - loss: 0.1702 - mae: 0.3662\n",
      "Epoch 79/100\n",
      "1/1 [==============================] - 0s 48ms/step - loss: 0.1639 - mae: 0.3595\n",
      "Epoch 80/100\n",
      "1/1 [==============================] - 0s 48ms/step - loss: 0.1579 - mae: 0.3530\n",
      "Epoch 81/100\n",
      "1/1 [==============================] - 0s 43ms/step - loss: 0.1521 - mae: 0.3465\n",
      "Epoch 82/100\n",
      "1/1 [==============================] - 0s 36ms/step - loss: 0.1465 - mae: 0.3401\n",
      "Epoch 83/100\n",
      "1/1 [==============================] - 0s 48ms/step - loss: 0.1411 - mae: 0.3338\n",
      "Epoch 84/100\n",
      "1/1 [==============================] - 0s 44ms/step - loss: 0.1360 - mae: 0.3276\n",
      "Epoch 85/100\n",
      "1/1 [==============================] - 0s 39ms/step - loss: 0.1310 - mae: 0.3215\n",
      "Epoch 86/100\n",
      "1/1 [==============================] - 0s 51ms/step - loss: 0.1262 - mae: 0.3157\n",
      "Epoch 87/100\n",
      "1/1 [==============================] - 0s 47ms/step - loss: 0.1216 - mae: 0.3098\n",
      "Epoch 88/100\n",
      "1/1 [==============================] - 0s 50ms/step - loss: 0.1172 - mae: 0.3040\n",
      "Epoch 89/100\n",
      "1/1 [==============================] - 0s 43ms/step - loss: 0.1130 - mae: 0.2984\n",
      "Epoch 90/100\n",
      "1/1 [==============================] - 0s 49ms/step - loss: 0.1089 - mae: 0.2929\n",
      "Epoch 91/100\n",
      "1/1 [==============================] - 0s 47ms/step - loss: 0.1049 - mae: 0.2874\n",
      "Epoch 92/100\n",
      "1/1 [==============================] - 0s 50ms/step - loss: 0.1011 - mae: 0.2820\n",
      "Epoch 93/100\n",
      "1/1 [==============================] - 0s 51ms/step - loss: 0.0975 - mae: 0.2767\n",
      "Epoch 94/100\n",
      "1/1 [==============================] - 0s 44ms/step - loss: 0.0940 - mae: 0.2714\n",
      "Epoch 95/100\n",
      "1/1 [==============================] - 0s 45ms/step - loss: 0.0906 - mae: 0.2662\n",
      "Epoch 96/100\n",
      "1/1 [==============================] - 0s 45ms/step - loss: 0.0874 - mae: 0.2612\n",
      "Epoch 97/100\n",
      "1/1 [==============================] - 0s 47ms/step - loss: 0.0843 - mae: 0.2561\n",
      "Epoch 98/100\n",
      "1/1 [==============================] - 0s 50ms/step - loss: 0.0813 - mae: 0.2511\n",
      "Epoch 99/100\n",
      "1/1 [==============================] - 0s 39ms/step - loss: 0.0784 - mae: 0.2461\n",
      "Epoch 100/100\n",
      "1/1 [==============================] - 0s 49ms/step - loss: 0.0756 - mae: 0.2412\n"
     ]
    }
   ],
   "source": [
    "historic = model.fit(utrain, tetha_train, epochs=100, steps_per_epoch=1, verbose=1)"
   ]
  },
  {
   "cell_type": "code",
   "execution_count": 21,
   "metadata": {},
   "outputs": [
    {
     "data": {
      "text/plain": [
       "[<matplotlib.lines.Line2D at 0x7fa4c96e8e50>]"
      ]
     },
     "execution_count": 21,
     "metadata": {},
     "output_type": "execute_result"
    },
    {
     "data": {
      "image/png": "[encoded data removed]",
      "text/plain": [
       "<Figure size 432x288 with 1 Axes>"
      ]
     },
     "metadata": {
      "needs_background": "light"
     },
     "output_type": "display_data"
    }
   ],
   "source": [
    "plt.plot(historic.history[\"loss\"])"
   ]
  },
  {
   "cell_type": "code",
   "execution_count": 22,
   "metadata": {},
   "outputs": [],
   "source": [
    "yPred = model.predict_on_batch(utrain)[0, :, :]"
   ]
  },
  {
   "cell_type": "code",
   "execution_count": 23,
   "metadata": {},
   "outputs": [
    {
     "data": {
      "image/png": "[encoded data removed]",
      "text/plain": [
       "<Figure size 432x288 with 1 Axes>"
      ]
     },
     "metadata": {
      "needs_background": "light"
     },
     "output_type": "display_data"
    }
   ],
   "source": [
    "plt.plot(t, tetha_train[0, :, :], 'gray')\n",
    "plt.plot(t, yPred_before[:, :], 'r', label='before training')\n",
    "plt.plot(t, yPred[:, :], 'b', label='after training')\n",
    "plt.xlabel('t')\n",
    "plt.ylabel('y')\n",
    "plt.grid('on')\n",
    "plt.legend()\n",
    "plt.show()"
   ]
  },
  {
   "cell_type": "code",
   "execution_count": null,
   "metadata": {},
   "outputs": [],
   "source": []
  }
 ],
 "metadata": {
  "kernelspec": {
   "display_name": "Python 3.8",
   "language": "python",
   "name": "py38"
  },
  "language_info": {
   "codemirror_mode": {
    "name": "ipython",
    "version": 3
   },
   "file_extension": ".py",
   "mimetype": "text/x-python",
   "name": "python",
   "nbconvert_exporter": "python",
   "pygments_lexer": "ipython3",
   "version": "3.8.12"
  }
 },
 "nbformat": 4,
 "nbformat_minor": 4
}
