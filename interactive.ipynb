{
 "cells": [
  {
   "cell_type": "markdown",
   "id": "98c01d10-3d89-40fc-835b-11094e179e37",
   "metadata": {
    "tags": []
   },
   "source": [
    "# Scientific Machine Learning"
   ]
  },
  {
   "cell_type": "markdown",
   "id": "a4639f48-82b6-44dc-95df-65957316e9fa",
   "metadata": {},
   "source": [
    "The main objective is to complete a physical model with a data-driven model.\n",
    "\n",
    "Next work is inspired from those both next articles :  \n",
    "- 2020, R. G. Nascimento, K. Fricke, F. A. C. Viana, \"A tutorial on solving ordinary differential equations using Python and hybrid physics-informed neural network,\" Engineering Applications of Artificial Intelligence, Vol. 96, 2020, 103996. (DOI: 10.1016/j.engappai.2020.103996).\n",
    "- 2020, \"Augmenting Physical Models with Deep Networks for Complex Dynamics Forecasting\", Vincent Le Guen (EDF)...\n",
    "\n",
    "To Read :\n",
    "- \"Hybrid data-driven physics model-based framework for enhance cyber-physical smart grid security\"\n",
    "- Raissi, Maziar, Paris Perdikaris, and George Em Karniadakis. \"Physics Informed Deep Learning (Part I): Data-driven Solutions of Nonlinear Partial Differential Equations.\" arXiv preprint arXiv:1711.10561 (2017).\n",
    "- Raissi, Maziar, Paris Perdikaris, and George Em Karniadakis. \"Physics Informed Deep Learning (Part II): Data-driven Discovery of Nonlinear Partial Differential Equations.\" arXiv preprint arXiv:1711.10566 (2017).\n"
   ]
  },
  {
   "cell_type": "markdown",
   "id": "7fcd65fc-761a-47db-aa12-65cd8ab8c532",
   "metadata": {},
   "source": [
    "# Import packages"
   ]
  },
  {
   "cell_type": "code",
   "execution_count": 6,
   "id": "c64e0326-260e-456e-876f-7ea17fe9ad49",
   "metadata": {},
   "outputs": [],
   "source": [
    "import pandas as pd\n",
    "import numpy as np"
   ]
  },
  {
   "cell_type": "code",
   "execution_count": 7,
   "id": "d0493ea5-e878-4130-b64d-704e7abccdef",
   "metadata": {},
   "outputs": [],
   "source": [
    "rng = np.random.RandomState(200)"
   ]
  },
  {
   "cell_type": "markdown",
   "id": "4b9d332a-31cb-412a-b362-9f0e1b70203b",
   "metadata": {},
   "source": [
    "# Data Generation"
   ]
  },
  {
   "cell_type": "markdown",
   "id": "647b62b4-6dd8-49ce-9601-e2de681b0a0a",
   "metadata": {},
   "source": [
    "TODO"
   ]
  },
  {
   "cell_type": "code",
   "execution_count": 4,
   "id": "1c32a053-bbd4-475c-9eed-e65dc3185f71",
   "metadata": {},
   "outputs": [],
   "source": [
    "df_all = pd.read_csv(\"data.csv\", sep=\";\", decimal=\",\", header=0)"
   ]
  },
  {
   "cell_type": "code",
   "execution_count": 8,
   "id": "1096b146-5c78-4226-9224-5882b12a7e94",
   "metadata": {},
   "outputs": [
    {
     "data": {
      "text/plain": [
       "(3240, 7)"
      ]
     },
     "execution_count": 8,
     "metadata": {},
     "output_type": "execute_result"
    }
   ],
   "source": [
    "df_all.shape"
   ]
  },
  {
   "cell_type": "code",
   "execution_count": 10,
   "id": "c5943e3e-e63e-4a11-808f-8d6b5a03b7bc",
   "metadata": {},
   "outputs": [
    {
     "data": {
      "text/html": [
       "<div>\n",
       "<style scoped>\n",
       "    .dataframe tbody tr th:only-of-type {\n",
       "        vertical-align: middle;\n",
       "    }\n",
       "\n",
       "    .dataframe tbody tr th {\n",
       "        vertical-align: top;\n",
       "    }\n",
       "\n",
       "    .dataframe thead th {\n",
       "        text-align: right;\n",
       "    }\n",
       "</style>\n",
       "<table border=\"1\" class=\"dataframe\">\n",
       "  <thead>\n",
       "    <tr style=\"text-align: right;\">\n",
       "      <th></th>\n",
       "      <th>time</th>\n",
       "      <th>case</th>\n",
       "      <th>theta0</th>\n",
       "      <th>theta_dot0</th>\n",
       "      <th>u</th>\n",
       "      <th>tetha</th>\n",
       "      <th>theta_dot</th>\n",
       "    </tr>\n",
       "  </thead>\n",
       "  <tbody>\n",
       "    <tr>\n",
       "      <th>0</th>\n",
       "      <td>0.0</td>\n",
       "      <td>0</td>\n",
       "      <td>0.192342</td>\n",
       "      <td>1.057883</td>\n",
       "      <td>0</td>\n",
       "      <td>0.138456</td>\n",
       "      <td>1.003997</td>\n",
       "    </tr>\n",
       "    <tr>\n",
       "      <th>1</th>\n",
       "      <td>0.5</td>\n",
       "      <td>0</td>\n",
       "      <td>0.192342</td>\n",
       "      <td>1.057883</td>\n",
       "      <td>0</td>\n",
       "      <td>0.631661</td>\n",
       "      <td>0.848859</td>\n",
       "    </tr>\n",
       "    <tr>\n",
       "      <th>2</th>\n",
       "      <td>1.0</td>\n",
       "      <td>0</td>\n",
       "      <td>0.192342</td>\n",
       "      <td>1.057883</td>\n",
       "      <td>0</td>\n",
       "      <td>1.015907</td>\n",
       "      <td>0.641543</td>\n",
       "    </tr>\n",
       "    <tr>\n",
       "      <th>3</th>\n",
       "      <td>1.5</td>\n",
       "      <td>0</td>\n",
       "      <td>0.192342</td>\n",
       "      <td>1.057883</td>\n",
       "      <td>0</td>\n",
       "      <td>1.375889</td>\n",
       "      <td>0.502063</td>\n",
       "    </tr>\n",
       "    <tr>\n",
       "      <th>4</th>\n",
       "      <td>2.0</td>\n",
       "      <td>0</td>\n",
       "      <td>0.192342</td>\n",
       "      <td>1.057883</td>\n",
       "      <td>0</td>\n",
       "      <td>1.658025</td>\n",
       "      <td>0.388829</td>\n",
       "    </tr>\n",
       "  </tbody>\n",
       "</table>\n",
       "</div>"
      ],
      "text/plain": [
       "   time  case    theta0  theta_dot0  u     tetha  theta_dot\n",
       "0   0.0     0  0.192342    1.057883  0  0.138456   1.003997\n",
       "1   0.5     0  0.192342    1.057883  0  0.631661   0.848859\n",
       "2   1.0     0  0.192342    1.057883  0  1.015907   0.641543\n",
       "3   1.5     0  0.192342    1.057883  0  1.375889   0.502063\n",
       "4   2.0     0  0.192342    1.057883  0  1.658025   0.388829"
      ]
     },
     "execution_count": 10,
     "metadata": {},
     "output_type": "execute_result"
    }
   ],
   "source": [
    "df_all.head()"
   ]
  },
  {
   "cell_type": "code",
   "execution_count": null,
   "id": "93fc99b3-3ee6-485d-bb0d-00121c0fd604",
   "metadata": {},
   "outputs": [],
   "source": []
  }
 ],
 "metadata": {
  "kernelspec": {
   "display_name": "Python 3.8",
   "language": "python",
   "name": "py38"
  },
  "language_info": {
   "codemirror_mode": {
    "name": "ipython",
    "version": 3
   },
   "file_extension": ".py",
   "mimetype": "text/x-python",
   "name": "python",
   "nbconvert_exporter": "python",
   "pygments_lexer": "ipython3",
   "version": "3.8.12"
  }
 },
 "nbformat": 4,
 "nbformat_minor": 5
}
